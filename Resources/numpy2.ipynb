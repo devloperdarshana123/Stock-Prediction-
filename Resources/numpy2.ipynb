{
 "cells": [
  {
   "cell_type": "code",
   "execution_count": 1,
   "id": "5ab9e1a4-4c1c-43ce-9ec2-e26e25b69db0",
   "metadata": {},
   "outputs": [],
   "source": [
    "import numpy as np"
   ]
  },
  {
   "cell_type": "code",
   "execution_count": 2,
   "id": "9b9029d1-18a3-43d3-8940-95a59dc95012",
   "metadata": {},
   "outputs": [
    {
     "data": {
      "text/plain": [
       "array([[[0.56680896, 0.02458132, 0.86375532],\n",
       "        [0.87177885, 0.85304491, 0.23515208]],\n",
       "\n",
       "       [[0.73873546, 0.51657381, 0.04301768],\n",
       "        [0.04001257, 0.28731892, 0.35095153]],\n",
       "\n",
       "       [[0.52226639, 0.65263518, 0.22188849],\n",
       "        [0.63728494, 0.45167114, 0.35335466]]])"
      ]
     },
     "execution_count": 2,
     "metadata": {},
     "output_type": "execute_result"
    }
   ],
   "source": [
    "randarr = np.random.rand(3,2,3)\n",
    "randarr"
   ]
  },
  {
   "cell_type": "code",
   "execution_count": 3,
   "id": "6cd9452b-231d-408d-9e18-ab48295fb2ea",
   "metadata": {},
   "outputs": [
    {
     "data": {
      "text/plain": [
       "dtype('float64')"
      ]
     },
     "execution_count": 3,
     "metadata": {},
     "output_type": "execute_result"
    }
   ],
   "source": [
    "randarr.dtype"
   ]
  },
  {
   "cell_type": "code",
   "execution_count": 4,
   "id": "b1287d8a-644f-4328-a043-755acfa091a6",
   "metadata": {},
   "outputs": [
    {
     "data": {
      "text/plain": [
       "array([[[0., 0., 0.],\n",
       "        [0., 0., 0.]],\n",
       "\n",
       "       [[0., 0., 0.],\n",
       "        [0., 0., 0.]],\n",
       "\n",
       "       [[0., 0., 0.],\n",
       "        [0., 0., 0.]]])"
      ]
     },
     "execution_count": 4,
     "metadata": {},
     "output_type": "execute_result"
    }
   ],
   "source": [
    "zeros = np.zeros((3,2,3))\n",
    "zeros"
   ]
  },
  {
   "cell_type": "code",
   "execution_count": 5,
   "id": "3a911edd-68ca-4883-8955-a6fe29be151d",
   "metadata": {},
   "outputs": [
    {
     "data": {
      "text/plain": [
       "3"
      ]
     },
     "execution_count": 5,
     "metadata": {},
     "output_type": "execute_result"
    }
   ],
   "source": [
    "zeros.ndim"
   ]
  },
  {
   "cell_type": "code",
   "execution_count": 7,
   "id": "1839d5f1-4931-484a-ab5a-07deb8df8579",
   "metadata": {},
   "outputs": [
    {
     "data": {
      "text/plain": [
       "array([[[9, 9, 9],\n",
       "        [9, 9, 9]],\n",
       "\n",
       "       [[9, 9, 9],\n",
       "        [9, 9, 9]],\n",
       "\n",
       "       [[9, 9, 9],\n",
       "        [9, 9, 9]]])"
      ]
     },
     "execution_count": 7,
     "metadata": {},
     "output_type": "execute_result"
    }
   ],
   "source": [
    "full = np.full((3,2,3),9)\n",
    "full"
   ]
  },
  {
   "cell_type": "code",
   "execution_count": 8,
   "id": "bcc60f82-bb5e-4bb8-bd70-b6a68e144265",
   "metadata": {},
   "outputs": [
    {
     "data": {
      "text/plain": [
       "array([[[1., 1., 1.],\n",
       "        [1., 1., 1.]],\n",
       "\n",
       "       [[1., 1., 1.],\n",
       "        [1., 1., 1.]],\n",
       "\n",
       "       [[1., 1., 1.],\n",
       "        [1., 1., 1.]]])"
      ]
     },
     "execution_count": 8,
     "metadata": {},
     "output_type": "execute_result"
    }
   ],
   "source": [
    "ones = np.ones((3,2,3))\n",
    "ones"
   ]
  },
  {
   "cell_type": "code",
   "execution_count": 13,
   "id": "468fd422-eda9-4562-9866-14128de1a770",
   "metadata": {},
   "outputs": [
    {
     "data": {
      "text/plain": [
       "array([1., 1., 1.])"
      ]
     },
     "execution_count": 13,
     "metadata": {},
     "output_type": "execute_result"
    }
   ],
   "source": [
    "ones[0][1]"
   ]
  },
  {
   "cell_type": "code",
   "execution_count": 15,
   "id": "142ba5e4-6243-4109-8808-7d3d8aef3a31",
   "metadata": {},
   "outputs": [
    {
     "data": {
      "text/plain": [
       "array([[[1., 1., 1.],\n",
       "        [1., 1., 1.]],\n",
       "\n",
       "       [[1., 1., 1.],\n",
       "        [1., 1., 1.]],\n",
       "\n",
       "       [[1., 1., 1.],\n",
       "        [1., 1., 1.]]])"
      ]
     },
     "execution_count": 15,
     "metadata": {},
     "output_type": "execute_result"
    }
   ],
   "source": [
    "ones[0:3]"
   ]
  },
  {
   "cell_type": "code",
   "execution_count": 16,
   "id": "605d1bfe-9065-440d-8947-945b745a61c8",
   "metadata": {},
   "outputs": [
    {
     "data": {
      "text/plain": [
       "array([[1., 1., 1.],\n",
       "       [1., 1., 1.]])"
      ]
     },
     "execution_count": 16,
     "metadata": {},
     "output_type": "execute_result"
    }
   ],
   "source": [
    "ones[-1]"
   ]
  },
  {
   "cell_type": "code",
   "execution_count": 18,
   "id": "98c790b7-6238-4f9d-a223-6f7beaca443d",
   "metadata": {},
   "outputs": [],
   "source": [
    "a1 = np.random.rand(2,3,2)\n",
    "a2 = np.random.rand(2,3,2)\n"
   ]
  },
  {
   "cell_type": "code",
   "execution_count": 19,
   "id": "c3668341-8ef7-4a5a-8a71-916ee39479a9",
   "metadata": {},
   "outputs": [
    {
     "data": {
      "text/plain": [
       "array([[[0.4175753 , 0.91722484],\n",
       "        [0.27252898, 0.81605162],\n",
       "        [0.87510721, 0.29843843]],\n",
       "\n",
       "       [[0.97734476, 0.13819769],\n",
       "        [0.45133859, 0.9980756 ],\n",
       "        [0.25527055, 0.87550867]]])"
      ]
     },
     "execution_count": 19,
     "metadata": {},
     "output_type": "execute_result"
    }
   ],
   "source": [
    "a1"
   ]
  },
  {
   "cell_type": "code",
   "execution_count": 20,
   "id": "2ec3a27d-1de5-4a69-b040-0f2301c3657e",
   "metadata": {},
   "outputs": [
    {
     "data": {
      "text/plain": [
       "array([[[4.40228991e-01, 5.22797556e-01],\n",
       "        [3.83348062e-01, 6.23943757e-01],\n",
       "        [5.83742569e-01, 9.47101406e-04]],\n",
       "\n",
       "       [[4.65708669e-01, 3.53685570e-01],\n",
       "        [1.24905301e-01, 3.06933496e-01],\n",
       "        [5.39281012e-01, 9.75304407e-01]]])"
      ]
     },
     "execution_count": 20,
     "metadata": {},
     "output_type": "execute_result"
    }
   ],
   "source": [
    "a2"
   ]
  },
  {
   "cell_type": "code",
   "execution_count": 21,
   "id": "d897e0bc-ac9f-4737-b0fc-012383fd4513",
   "metadata": {},
   "outputs": [
    {
     "data": {
      "text/plain": [
       "array([[[0.85780429, 1.4400224 ],\n",
       "        [0.65587705, 1.43999538],\n",
       "        [1.45884978, 0.29938553]],\n",
       "\n",
       "       [[1.44305343, 0.49188326],\n",
       "        [0.57624389, 1.3050091 ],\n",
       "        [0.79455156, 1.85081308]]])"
      ]
     },
     "execution_count": 21,
     "metadata": {},
     "output_type": "execute_result"
    }
   ],
   "source": [
    "np.add(a1 , a2)"
   ]
  },
  {
   "cell_type": "code",
   "execution_count": 22,
   "id": "121d3122-b6e0-4b46-b680-66548340b37d",
   "metadata": {},
   "outputs": [
    {
     "data": {
      "text/plain": [
       "array([[[-0.02265369,  0.39442728],\n",
       "        [-0.11081908,  0.19210786],\n",
       "        [ 0.29136464,  0.29749133]],\n",
       "\n",
       "       [[ 0.51163609, -0.21548788],\n",
       "        [ 0.32643329,  0.69114211],\n",
       "        [-0.28401046, -0.09979573]]])"
      ]
     },
     "execution_count": 22,
     "metadata": {},
     "output_type": "execute_result"
    }
   ],
   "source": [
    "np.subtract(a1,a2)"
   ]
  },
  {
   "cell_type": "code",
   "execution_count": 23,
   "id": "9709cf80-6a60-4b2e-998c-2d94e6f793a8",
   "metadata": {},
   "outputs": [
    {
     "data": {
      "text/plain": [
       "array([[[  0.94854111,   1.7544551 ],\n",
       "        [  0.71091786,   1.30789292],\n",
       "        [  1.49913207, 315.10715255]],\n",
       "\n",
       "       [[  2.09861836,   0.39073601],\n",
       "        [  3.61344627,   3.25176501],\n",
       "        [  0.47335349,   0.89767735]]])"
      ]
     },
     "execution_count": 23,
     "metadata": {},
     "output_type": "execute_result"
    }
   ],
   "source": [
    "np.divide(a1,a2)"
   ]
  },
  {
   "cell_type": "code",
   "execution_count": 24,
   "id": "aca8ca49-6ba2-47f9-91be-a4b9978fc272",
   "metadata": {},
   "outputs": [
    {
     "data": {
      "text/plain": [
       "array([[[1.83828751e-01, 4.79522905e-01],\n",
       "        [1.04473458e-01, 5.09170314e-01],\n",
       "        [5.10837329e-01, 2.82651454e-04]],\n",
       "\n",
       "       [[4.55157928e-01, 4.88785289e-02],\n",
       "        [5.63745825e-02, 3.06342834e-01],\n",
       "        [1.37662560e-01, 8.53887467e-01]]])"
      ]
     },
     "execution_count": 24,
     "metadata": {},
     "output_type": "execute_result"
    }
   ],
   "source": [
    "np.multiply(a1,a2)"
   ]
  },
  {
   "cell_type": "markdown",
   "id": "d75708fd-dcd9-4d88-9f42-4feacd8cdc08",
   "metadata": {},
   "source": [
    "### Satistical Operation"
   ]
  },
  {
   "cell_type": "code",
   "execution_count": 25,
   "id": "9abe8008-6cbb-4702-9441-0d7c9d359e8d",
   "metadata": {},
   "outputs": [],
   "source": [
    "sqrt = np.sqrt(25)\n",
    "abs = np.abs(-45)\n",
    "power = np.power(2,8)\n",
    "log = np.log(25)\n",
    "mins = np.min(a1)\n",
    "maxs = np.max(a2)"
   ]
  },
  {
   "cell_type": "code",
   "execution_count": 26,
   "id": "e97bf72b-fe5e-40f9-97aa-d4bd0b7a3edf",
   "metadata": {},
   "outputs": [
    {
     "data": {
      "text/plain": [
       "np.float64(5.0)"
      ]
     },
     "execution_count": 26,
     "metadata": {},
     "output_type": "execute_result"
    }
   ],
   "source": [
    "sqrt"
   ]
  },
  {
   "cell_type": "code",
   "execution_count": 27,
   "id": "85a72661-898d-494b-a3e0-2490e61b4757",
   "metadata": {},
   "outputs": [
    {
     "data": {
      "text/plain": [
       "np.int64(45)"
      ]
     },
     "execution_count": 27,
     "metadata": {},
     "output_type": "execute_result"
    }
   ],
   "source": [
    "abs"
   ]
  },
  {
   "cell_type": "code",
   "execution_count": 28,
   "id": "d9567cfd-5012-43dd-b8a9-77dce833ea95",
   "metadata": {},
   "outputs": [
    {
     "data": {
      "text/plain": [
       "np.int64(256)"
      ]
     },
     "execution_count": 28,
     "metadata": {},
     "output_type": "execute_result"
    }
   ],
   "source": [
    "power"
   ]
  },
  {
   "cell_type": "code",
   "execution_count": 29,
   "id": "38c21623-0f3e-4007-93e6-5d49023293e3",
   "metadata": {},
   "outputs": [
    {
     "data": {
      "text/plain": [
       "np.float64(0.1381976901887081)"
      ]
     },
     "execution_count": 29,
     "metadata": {},
     "output_type": "execute_result"
    }
   ],
   "source": [
    "mins"
   ]
  },
  {
   "cell_type": "code",
   "execution_count": 30,
   "id": "e71a02e6-a1f6-44b0-a26a-eecb539b89ce",
   "metadata": {},
   "outputs": [
    {
     "data": {
      "text/plain": [
       "np.float64(0.9753044070882051)"
      ]
     },
     "execution_count": 30,
     "metadata": {},
     "output_type": "execute_result"
    }
   ],
   "source": [
    "maxs"
   ]
  },
  {
   "cell_type": "markdown",
   "id": "f1f77efe-ab3a-4c71-ab97-71c2434937fa",
   "metadata": {},
   "source": [
    "### Updating the value"
   ]
  },
  {
   "cell_type": "code",
   "execution_count": 32,
   "id": "8e418bed-7ae5-4125-a27a-1b938f7af450",
   "metadata": {},
   "outputs": [],
   "source": [
    "a1[0 ,0 ,1] = 67"
   ]
  },
  {
   "cell_type": "code",
   "execution_count": 33,
   "id": "37468e81-84d4-471e-87db-2fd2c2bf4863",
   "metadata": {},
   "outputs": [
    {
     "data": {
      "text/plain": [
       "array([[[ 0.4175753 , 67.        ],\n",
       "        [ 0.27252898,  0.81605162],\n",
       "        [ 0.87510721,  0.29843843]],\n",
       "\n",
       "       [[ 0.97734476,  0.13819769],\n",
       "        [ 0.45133859,  0.9980756 ],\n",
       "        [ 0.25527055,  0.87550867]]])"
      ]
     },
     "execution_count": 33,
     "metadata": {},
     "output_type": "execute_result"
    }
   ],
   "source": [
    "a1"
   ]
  },
  {
   "cell_type": "code",
   "execution_count": 36,
   "id": "675172e3-08ba-4682-8357-9901fa69a357",
   "metadata": {},
   "outputs": [
    {
     "data": {
      "text/plain": [
       "array([[[ 0.4175753 , 67.        ],\n",
       "        [ 0.27252898,  0.81605162],\n",
       "        [ 0.29843843,  0.87510721]],\n",
       "\n",
       "       [[ 0.13819769,  0.97734476],\n",
       "        [ 0.45133859,  0.9980756 ],\n",
       "        [ 0.25527055,  0.87550867]]])"
      ]
     },
     "execution_count": 36,
     "metadata": {},
     "output_type": "execute_result"
    }
   ],
   "source": [
    "a1.sort()\n",
    "a1"
   ]
  },
  {
   "cell_type": "code",
   "execution_count": 35,
   "id": "3abb455e-e182-4c17-8080-32e6ce7a50c2",
   "metadata": {},
   "outputs": [
    {
     "data": {
      "text/plain": [
       "array([[[ 0.4175753 , 67.        ],\n",
       "        [ 0.27252898,  0.81605162],\n",
       "        [ 0.29843843,  0.87510721]],\n",
       "\n",
       "       [[ 0.13819769,  0.97734476],\n",
       "        [ 0.45133859,  0.9980756 ],\n",
       "        [ 0.25527055,  0.87550867]]])"
      ]
     },
     "execution_count": 35,
     "metadata": {},
     "output_type": "execute_result"
    }
   ],
   "source": [
    "a1"
   ]
  },
  {
   "cell_type": "code",
   "execution_count": 37,
   "id": "7b8f4f1b-f92e-40b1-ac7a-1d043367d05d",
   "metadata": {},
   "outputs": [
    {
     "data": {
      "text/plain": [
       "(2, 3, 2)"
      ]
     },
     "execution_count": 37,
     "metadata": {},
     "output_type": "execute_result"
    }
   ],
   "source": [
    "a1.shape"
   ]
  },
  {
   "cell_type": "code",
   "execution_count": 39,
   "id": "701469d0-48d4-4005-81a6-08866af5f9af",
   "metadata": {},
   "outputs": [
    {
     "ename": "ValueError",
     "evalue": "cannot reshape array of size 12 into shape (2,2,2)",
     "output_type": "error",
     "traceback": [
      "\u001b[31m---------------------------------------------------------------------------\u001b[39m",
      "\u001b[31mValueError\u001b[39m                                Traceback (most recent call last)",
      "\u001b[36mCell\u001b[39m\u001b[36m \u001b[39m\u001b[32mIn[39]\u001b[39m\u001b[32m, line 1\u001b[39m\n\u001b[32m----> \u001b[39m\u001b[32m1\u001b[39m a3 = a1.reshape((\u001b[32m2\u001b[39m,\u001b[32m2\u001b[39m,\u001b[32m2\u001b[39m))\n\u001b[32m      2\u001b[39m a3\n",
      "\u001b[31mValueError\u001b[39m: cannot reshape array of size 12 into shape (2,2,2)"
     ]
    }
   ],
   "source": [
    "a3 = a1.reshape((2,2,2))\n",
    "a3"
   ]
  },
  {
   "cell_type": "markdown",
   "id": "a9cdbce3-10b7-468e-85c9-703eb40d052f",
   "metadata": {},
   "source": [
    "### Apending and Inserting"
   ]
  },
  {
   "cell_type": "code",
   "execution_count": 40,
   "id": "f822f63c-1410-4025-a5ae-0f5d69524e46",
   "metadata": {},
   "outputs": [
    {
     "data": {
      "text/plain": [
       "array([[[0., 0., 0.],\n",
       "        [0., 0., 0.]],\n",
       "\n",
       "       [[0., 0., 0.],\n",
       "        [0., 0., 0.]],\n",
       "\n",
       "       [[0., 0., 0.],\n",
       "        [0., 0., 0.]]])"
      ]
     },
     "execution_count": 40,
     "metadata": {},
     "output_type": "execute_result"
    }
   ],
   "source": [
    "zeros"
   ]
  },
  {
   "cell_type": "code",
   "execution_count": 43,
   "id": "225454a5-f830-43a5-bf6c-ba94962b701e",
   "metadata": {},
   "outputs": [
    {
     "data": {
      "text/plain": [
       "array([[[1., 1., 1.],\n",
       "        [1., 1., 1.]],\n",
       "\n",
       "       [[1., 1., 1.],\n",
       "        [1., 1., 1.]],\n",
       "\n",
       "       [[1., 1., 1.],\n",
       "        [1., 1., 1.]]])"
      ]
     },
     "execution_count": 43,
     "metadata": {},
     "output_type": "execute_result"
    }
   ],
   "source": [
    "new = np.ones((3,2,3))\n",
    "new"
   ]
  },
  {
   "cell_type": "code",
   "execution_count": 44,
   "id": "1769c611-8ff9-4646-b73e-8d84388a6c11",
   "metadata": {},
   "outputs": [
    {
     "data": {
      "text/plain": [
       "array([[[0., 0., 0.],\n",
       "        [0., 0., 0.]],\n",
       "\n",
       "       [[0., 0., 0.],\n",
       "        [0., 0., 0.]],\n",
       "\n",
       "       [[0., 0., 0.],\n",
       "        [0., 0., 0.]],\n",
       "\n",
       "       [[1., 1., 1.],\n",
       "        [1., 1., 1.]],\n",
       "\n",
       "       [[1., 1., 1.],\n",
       "        [1., 1., 1.]],\n",
       "\n",
       "       [[1., 1., 1.],\n",
       "        [1., 1., 1.]]])"
      ]
     },
     "execution_count": 44,
     "metadata": {},
     "output_type": "execute_result"
    }
   ],
   "source": [
    "append = np.append(zeros , new , axis=0)\n",
    "append"
   ]
  },
  {
   "cell_type": "code",
   "execution_count": 45,
   "id": "ea5f9de6-81d4-4050-b8d3-536394436b96",
   "metadata": {},
   "outputs": [
    {
     "data": {
      "text/plain": [
       "array([[[0., 0., 0.],\n",
       "        [0., 0., 0.]],\n",
       "\n",
       "       [[1., 1., 1.],\n",
       "        [1., 1., 1.]],\n",
       "\n",
       "       [[1., 1., 1.],\n",
       "        [1., 1., 1.]],\n",
       "\n",
       "       [[1., 1., 1.],\n",
       "        [1., 1., 1.]],\n",
       "\n",
       "       [[0., 0., 0.],\n",
       "        [0., 0., 0.]],\n",
       "\n",
       "       [[0., 0., 0.],\n",
       "        [0., 0., 0.]]])"
      ]
     },
     "execution_count": 45,
     "metadata": {},
     "output_type": "execute_result"
    }
   ],
   "source": [
    "insert = np.insert(zeros, 1 , new  , axis = 0)\n",
    "insert"
   ]
  },
  {
   "cell_type": "markdown",
   "id": "87b16dcb-3843-4bee-85da-bd938b4e4bfa",
   "metadata": {},
   "source": [
    "### Delete "
   ]
  },
  {
   "cell_type": "code",
   "execution_count": 1,
   "id": "ccb35a99-1ce6-44fd-893d-a4f9041df7fb",
   "metadata": {},
   "outputs": [
    {
     "ename": "NameError",
     "evalue": "name 'np' is not defined",
     "output_type": "error",
     "traceback": [
      "\u001b[31m---------------------------------------------------------------------------\u001b[39m",
      "\u001b[31mNameError\u001b[39m                                 Traceback (most recent call last)",
      "\u001b[36mCell\u001b[39m\u001b[36m \u001b[39m\u001b[32mIn[1]\u001b[39m\u001b[32m, line 1\u001b[39m\n\u001b[32m----> \u001b[39m\u001b[32m1\u001b[39m arr5 = np.delete(append , \u001b[32m0\u001b[39m, axis=\u001b[32m1\u001b[39m)\n",
      "\u001b[31mNameError\u001b[39m: name 'np' is not defined"
     ]
    }
   ],
   "source": [
    "arr5 = np.delete(append , 0, axis=1)\n"
   ]
  },
  {
   "cell_type": "code",
   "execution_count": 2,
   "id": "91e11a91-8cc9-4780-9596-096c8f5f811f",
   "metadata": {},
   "outputs": [
    {
     "ename": "NameError",
     "evalue": "name 'arr5' is not defined",
     "output_type": "error",
     "traceback": [
      "\u001b[31m---------------------------------------------------------------------------\u001b[39m",
      "\u001b[31mNameError\u001b[39m                                 Traceback (most recent call last)",
      "\u001b[36mCell\u001b[39m\u001b[36m \u001b[39m\u001b[32mIn[2]\u001b[39m\u001b[32m, line 1\u001b[39m\n\u001b[32m----> \u001b[39m\u001b[32m1\u001b[39m arr5\n",
      "\u001b[31mNameError\u001b[39m: name 'arr5' is not defined"
     ]
    }
   ],
   "source": [
    "arr5"
   ]
  },
  {
   "cell_type": "code",
   "execution_count": null,
   "id": "9d389d85-bdcc-4761-8e59-25cb0be2e6a4",
   "metadata": {},
   "outputs": [],
   "source": []
  }
 ],
 "metadata": {
  "kernelspec": {
   "display_name": "Python 3 (ipykernel)",
   "language": "python",
   "name": "python3"
  },
  "language_info": {
   "codemirror_mode": {
    "name": "ipython",
    "version": 3
   },
   "file_extension": ".py",
   "mimetype": "text/x-python",
   "name": "python",
   "nbconvert_exporter": "python",
   "pygments_lexer": "ipython3",
   "version": "3.13.5"
  }
 },
 "nbformat": 4,
 "nbformat_minor": 5
}
