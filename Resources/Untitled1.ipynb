{
 "cells": [
  {
   "cell_type": "code",
   "execution_count": 1,
   "id": "46b3db9b-e3ac-4873-b2d4-cef19e1d5554",
   "metadata": {},
   "outputs": [
    {
     "name": "stdout",
     "output_type": "stream",
     "text": [
      "Good Time Come Soon\n"
     ]
    }
   ],
   "source": [
    "print(\"Good Time Come Soon\")"
   ]
  },
  {
   "cell_type": "code",
   "execution_count": null,
   "id": "02617765-d561-4a50-9830-432bfec44576",
   "metadata": {},
   "outputs": [],
   "source": []
  },
  {
   "cell_type": "code",
   "execution_count": 2,
   "id": "0a21c17a-6520-41be-936d-0fc4b6bd0fe5",
   "metadata": {},
   "outputs": [
    {
     "name": "stdout",
     "output_type": "stream",
     "text": [
      "Good Time Soon Come\n"
     ]
    }
   ],
   "source": [
    "if 5>6:\n",
    "    print(\"Not Good Time Come\")\n",
    "else :\n",
    "    print(\"Good Time Soon Come\")"
   ]
  }
 ],
 "metadata": {
  "kernelspec": {
   "display_name": "Python 3 (ipykernel)",
   "language": "python",
   "name": "python3"
  },
  "language_info": {
   "codemirror_mode": {
    "name": "ipython",
    "version": 3
   },
   "file_extension": ".py",
   "mimetype": "text/x-python",
   "name": "python",
   "nbconvert_exporter": "python",
   "pygments_lexer": "ipython3",
   "version": "3.13.5"
  }
 },
 "nbformat": 4,
 "nbformat_minor": 5
}
